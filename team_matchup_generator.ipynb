{
 "cells": [
  {
   "cell_type": "code",
   "execution_count": null,
   "id": "6defc9b3-f126-4e94-b7e3-40fd0c35b0e5",
   "metadata": {},
   "outputs": [],
   "source": [
    "!pip install numpy pandas tqdm"
   ]
  },
  {
   "cell_type": "code",
   "execution_count": 2,
   "id": "6f3a0e8a-b6d0-49d5-958f-3f1be1e90381",
   "metadata": {},
   "outputs": [],
   "source": [
    "import numpy as np\n",
    "import pandas as pd\n",
    "from tqdm import tqdm\n",
    "import time"
   ]
  },
  {
   "cell_type": "code",
   "execution_count": 3,
   "id": "3d21cabb-f58b-4406-8f13-1b901b59b7de",
   "metadata": {},
   "outputs": [],
   "source": [
    "n_teams = 10\n",
    "n_events = n_teams // 2\n",
    "n_slots = n_events"
   ]
  },
  {
   "cell_type": "code",
   "execution_count": 4,
   "id": "1503c6b2-42f3-4761-bbc5-8bb7f4a3561a",
   "metadata": {},
   "outputs": [
    {
     "name": "stderr",
     "output_type": "stream",
     "text": [
      "  0%|          | 0/10000000 [00:00<?, ?it/s]/tmp/ipykernel_10294/1717096321.py:38: RuntimeWarning: invalid value encountered in divide\n",
      "  return output / np.sum(output)\n",
      "  0%|          | 774/10000000 [00:01<5:18:48, 522.75it/s]"
     ]
    },
    {
     "name": "stdout",
     "output_type": "stream",
     "text": [
      "Took 775 tries, but I got it!\n",
      "[[4 0 3 2 1]\n",
      " [4 3 0 1 2]\n",
      " [1 0 2 4 3]\n",
      " [0 4 1 3 2]\n",
      " [2 3 1 4 0]\n",
      " [3 4 2 0 1]\n",
      " [0 2 4 1 3]\n",
      " [2 1 3 0 4]\n",
      " [3 1 4 2 0]\n",
      " [1 2 0 3 4]]\n",
      "Took 1.4867660999298096s\n"
     ]
    },
    {
     "name": "stderr",
     "output_type": "stream",
     "text": [
      "\n"
     ]
    }
   ],
   "source": [
    "class Matchup:\n",
    "    def __init__(self, event: int):\n",
    "        self.event = event\n",
    "        self.team_a = -1\n",
    "        self.team_b = -1\n",
    "    \n",
    "    @property\n",
    "    def slot_free(self):\n",
    "        return self.team_a == -1 or self.team_b == -1\n",
    "\n",
    "    def add_team(self, team_n):\n",
    "        if not self.slot_free:\n",
    "            raise AssertionError(f\"No Free spot for event {self.event}! Matching team {self.team_a} and team {self.team_b}\")\n",
    "        if self.team_a == -1:\n",
    "            self.team_a = team_n\n",
    "        else:\n",
    "            self.team_b = team_n\n",
    "\n",
    "    def has_team(self, team_n):\n",
    "        return team_n in [self.team_a, self.team_b]\n",
    "\n",
    "    def __str__(self):\n",
    "        return f\"Event {self.event}, match: {self.team_a} \\t {self.team_b}\"\n",
    "\n",
    "class Team:\n",
    "    N_EVENTS = n_events\n",
    "    def __init__(self, team_number:int):\n",
    "        self.team_number = team_number\n",
    "        self.matched_teams = []\n",
    "        self.schedule = []\n",
    "\n",
    "    def gen_event_p(self, matchups: 'list[Matchup]'):\n",
    "        output = np.ones(self.N_EVENTS)\n",
    "        output[self.schedule] = 0\n",
    "        for m in matchups:\n",
    "            if not m.slot_free or any([m.has_team(opponent) for opponent in self.matched_teams]):\n",
    "                output[m.event] = 0\n",
    "        return output / np.sum(output)\n",
    "\n",
    "    def partitipate_in_event(self, i):\n",
    "        self.schedule.append(i)\n",
    "    \n",
    "    def select_next_event(self, matchups: 'list[Matchup]'):\n",
    "        return np.random.choice(range(self.N_EVENTS), p=self.gen_event_p(matchups))\n",
    "\n",
    "    def validate_schedule(self):\n",
    "        try:\n",
    "            assert len(set(self.schedule)) == len(self.schedule)\n",
    "        except AssertionError as e:\n",
    "            print(\"ERROR! participated in an event twice!\")\n",
    "            print(self.schedule)\n",
    "            raise e\n",
    "        try:\n",
    "            assert len(set(self.matched_teams)) == len(self.matched_teams)\n",
    "        except AssertionError as e:\n",
    "            print(\"ERROR! competed against the same team twice!\")\n",
    "            print(self.matched_teams)\n",
    "            raise e\n",
    "\n",
    "\n",
    "ts = time.time()\n",
    "for attempt in tqdm(range(10000000)):\n",
    "    success = False\n",
    "    teams = [Team(t)for t in range(n_teams)]\n",
    "    try:\n",
    "        for timeslot in range(n_slots):\n",
    "            # prepare the timeslot\n",
    "            matchups = [Matchup(i) for i in range(n_events)]\n",
    "            # iterate over teams\n",
    "            for i, team in enumerate(teams):\n",
    "                #iterate over opponents to see which events are free\n",
    "                team.partitipate_in_event(team.select_next_event(matchups))\n",
    "                matchups[team.schedule[-1]].add_team(team.team_number)\n",
    "            for m in matchups:\n",
    "                teams[m.team_a].matched_teams.append(m.team_b)\n",
    "                teams[m.team_b].matched_teams.append(m.team_a)\n",
    "            try:\n",
    "                for t in teams:\n",
    "                    t.validate_schedule()\n",
    "            except AssertionError:\n",
    "                for t in teams:\n",
    "                    t.matched_teams = t.matched_teams[:-1]\n",
    "        success = True\n",
    "        print(f\"Took {attempt+1} tries, but I got it!\")\n",
    "        break\n",
    "    except ValueError:\n",
    "        pass\n",
    "if success:\n",
    "    team_schedule = np.vstack([t.schedule for t in teams])\n",
    "    print(team_schedule)\n",
    "    print(f\"Took {time.time() - ts}s\")\n",
    "else:\n",
    "    print(\"no success...\")"
   ]
  },
  {
   "cell_type": "code",
   "execution_count": 5,
   "id": "5de1aa0b-2b73-4d79-b4b9-66bd407de516",
   "metadata": {},
   "outputs": [
    {
     "name": "stdout",
     "output_type": "stream",
     "text": [
      "A [5 1 4 3 2]\n",
      "B [5 4 1 2 3]\n",
      "C [2 1 3 5 4]\n",
      "D [1 5 2 4 3]\n",
      "E [3 4 2 5 1]\n",
      "F [4 5 3 1 2]\n",
      "G [1 3 5 2 4]\n",
      "H [3 2 4 1 5]\n",
      "I [4 2 5 3 1]\n",
      "J [2 3 1 4 5]\n"
     ]
    }
   ],
   "source": [
    "teams = 'ABCDEFGHIJKLMNOPGRSTUVWXYZ'  # 26 teams is enormous... so should be enough...\n",
    "for i,row in enumerate(team_schedule):\n",
    "    print(teams[i], row+1)"
   ]
  }
 ],
 "metadata": {
  "kernelspec": {
   "display_name": "Python 3 (ipykernel)",
   "language": "python",
   "name": "python3"
  },
  "language_info": {
   "codemirror_mode": {
    "name": "ipython",
    "version": 3
   },
   "file_extension": ".py",
   "mimetype": "text/x-python",
   "name": "python",
   "nbconvert_exporter": "python",
   "pygments_lexer": "ipython3",
   "version": "3.8.10"
  }
 },
 "nbformat": 4,
 "nbformat_minor": 5
}
